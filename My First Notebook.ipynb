{
 "cells": [
  {
   "cell_type": "markdown",
   "id": "9686dbf8-9ed6-4964-b64f-cd3fd27c242b",
   "metadata": {},
   "source": [
    "# Data Science's world"
   ]
  },
  {
   "cell_type": "markdown",
   "id": "57f945a9-59ac-4d4a-83f7-d23d84049e1f",
   "metadata": {},
   "source": [
    "#### In this notebook we'll summarized Data Science's libraries, languages and tools."
   ]
  },
  {
   "cell_type": "markdown",
   "id": "ef9a17ec-7d4b-4e37-96f4-9448ef1500cd",
   "metadata": {},
   "source": [
    "#### Data Science Languages: \n",
    "* Phyton \n",
    "* Java \n",
    "* Scala\n",
    "* Julia\n",
    "* R\n",
    "* SQL "
   ]
  },
  {
   "cell_type": "markdown",
   "id": "3d3e8667-ae00-4153-b88a-9427d7642593",
   "metadata": {},
   "source": [
    "#### Data Science Libraries, for Phyton \n",
    "* Pandas\n",
    "* TensorFlow\n",
    "* PyTorch"
   ]
  },
  {
   "cell_type": "markdown",
   "id": "76cc6056-d2e0-4fa7-8a29-0f7c243c3b34",
   "metadata": {},
   "source": [
    "#### Data Science tools \n",
    "|Python|SQL|R| \n",
    "|----|----|----| \n",
    "|Matplotlib|MicrosoftSQL|ggplot2| \n",
    "|Seaborn|PostgreSQL|tidyr|\n",
    "|TensorFlow|SQLite|plotly|"
   ]
  },
  {
   "cell_type": "markdown",
   "id": "6eb09a49-132d-4abd-85b0-a9c651108250",
   "metadata": {},
   "source": [
    "# Here are some arithmetic expressions examples!\n",
    "$(20 * 30) + 3$\n",
    "------------\n",
    "$(40 / 2) + 3$\n",
    "------------\n",
    "$ ( 2 * 2 ) + ( 2 / 2 ) $\n",
    "---------------"
   ]
  },
  {
   "cell_type": "markdown",
   "id": "4c7a58e5-e9c5-41f9-bc9b-2aa73da11c0e",
   "metadata": {},
   "source": [
    "#### Objectives\n",
    "* List data science libraries\n",
    "* List data science tools \n",
    "* Give examples of data science languagues "
   ]
  },
  {
   "cell_type": "markdown",
   "id": "ad826415-750f-4b22-ac60-6e78d2c69f05",
   "metadata": {},
   "source": [
    "# Author\n",
    "#### Naiquen Rodriguez"
   ]
  },
  {
   "cell_type": "code",
   "execution_count": null,
   "id": "1a327dc9-51a5-43db-9eab-397cf2a0e464",
   "metadata": {},
   "outputs": [],
   "source": []
  }
 ],
 "metadata": {
  "kernelspec": {
   "display_name": "Python",
   "language": "python",
   "name": "conda-env-python-py"
  },
  "language_info": {
   "codemirror_mode": {
    "name": "ipython",
    "version": 3
   },
   "file_extension": ".py",
   "mimetype": "text/x-python",
   "name": "python",
   "nbconvert_exporter": "python",
   "pygments_lexer": "ipython3",
   "version": "3.7.12"
  }
 },
 "nbformat": 4,
 "nbformat_minor": 5
}
